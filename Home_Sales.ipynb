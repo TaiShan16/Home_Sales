{
  "cells": [
    {
      "cell_type": "code",
      "execution_count": 3,
      "metadata": {
        "colab": {
          "base_uri": "https://localhost:8080/"
        },
        "id": "a_KW73O2e3dw",
        "outputId": "1ed2984f-a9af-487c-ad88-7c9e5cebb0c6"
      },
      "outputs": [
        {
          "output_type": "stream",
          "name": "stdout",
          "text": [
            "\r0% [Working]\r            \rHit:1 https://cloud.r-project.org/bin/linux/ubuntu focal-cran40/ InRelease\n",
            "Hit:2 https://developer.download.nvidia.com/compute/cuda/repos/ubuntu2004/x86_64  InRelease\n",
            "Get:3 http://security.ubuntu.com/ubuntu focal-security InRelease [114 kB]\n",
            "Hit:4 http://ppa.launchpad.net/c2d4u.team/c2d4u4.0+/ubuntu focal InRelease\n",
            "Hit:5 http://archive.ubuntu.com/ubuntu focal InRelease\n",
            "Get:6 http://archive.ubuntu.com/ubuntu focal-updates InRelease [114 kB]\n",
            "Hit:7 http://ppa.launchpad.net/cran/libgit2/ubuntu focal InRelease\n",
            "Hit:8 http://ppa.launchpad.net/deadsnakes/ppa/ubuntu focal InRelease\n",
            "Get:9 http://archive.ubuntu.com/ubuntu focal-backports InRelease [108 kB]\n",
            "Hit:10 http://ppa.launchpad.net/graphics-drivers/ppa/ubuntu focal InRelease\n",
            "Hit:11 http://ppa.launchpad.net/ubuntugis/ppa/ubuntu focal InRelease\n",
            "Fetched 336 kB in 2s (140 kB/s)\n",
            "Reading package lists... Done\n"
          ]
        }
      ],
      "source": [
        "import os\n",
        "# Find the latest version of spark 3.x  from http://www.apache.org/dist/spark/ and enter as the spark version\n",
        "# For example:\n",
        "# spark_version = 'spark-3.3.2'\n",
        "spark_version = 'spark-3.3.2'\n",
        "os.environ['SPARK_VERSION']=spark_version\n",
        "\n",
        "# Install the spark and java components\n",
        "!apt-get update\n",
        "!apt-get install openjdk-11-jdk-headless -qq > /dev/null\n",
        "!wget -q http://www.apache.org/dist/spark/$SPARK_VERSION/$SPARK_VERSION-bin-hadoop3.tgz\n",
        "!tar xf $SPARK_VERSION-bin-hadoop3.tgz\n",
        "!pip install -q findspark\n",
        "\n",
        "# set the runtime environment variables\n",
        "os.environ[\"JAVA_HOME\"] = \"/usr/lib/jvm/java-11-openjdk-amd64\" # sets the path to the Java Virtual Machine (Java Development Kit)\n",
        "os.environ[\"SPARK_HOME\"] = f\"/content/{spark_version}-bin-hadoop3\"\n",
        "\n",
        "# start a spark session by importing and using findspark\n",
        "import findspark\n",
        "findspark.init()"
      ]
    },
    {
      "cell_type": "code",
      "execution_count": 4,
      "metadata": {
        "id": "2XbWNf1Te5fM"
      },
      "outputs": [],
      "source": [
        "# Import packages\n",
        "from pyspark.sql import SparkSession\n",
        "import time\n",
        "\n",
        "# Create a SparkSession\n",
        "spark = SparkSession.builder.appName(\"SparkSQL\").getOrCreate()"
      ]
    },
    {
      "cell_type": "code",
      "execution_count": 5,
      "metadata": {
        "id": "wOJqxG_RPSwp",
        "colab": {
          "base_uri": "https://localhost:8080/"
        },
        "outputId": "f38d4fcb-332b-47d3-b91f-66e0ae590aaf"
      },
      "outputs": [
        {
          "output_type": "stream",
          "name": "stdout",
          "text": [
            "+--------------------+----------+----------+------+--------+---------+-----------+--------+------+----------+----+\n",
            "|                  id|      date|date_built| price|bedrooms|bathrooms|sqft_living|sqft_lot|floors|waterfront|view|\n",
            "+--------------------+----------+----------+------+--------+---------+-----------+--------+------+----------+----+\n",
            "|f8a53099-ba1c-47d...|2022-04-08|      2016|936923|       4|        3|       3167|   11733|     2|         1|  76|\n",
            "|7530a2d8-1ae3-451...|2021-06-13|      2013|379628|       2|        2|       2235|   14384|     1|         0|  23|\n",
            "|43de979c-0bf0-4c9...|2019-04-12|      2014|417866|       2|        2|       2127|   10575|     2|         0|   0|\n",
            "|b672c137-b88c-48b...|2019-10-16|      2016|239895|       2|        2|       1631|   11149|     2|         0|   0|\n",
            "|e0726d4d-d595-407...|2022-01-08|      2017|424418|       3|        2|       2249|   13878|     2|         0|   4|\n",
            "+--------------------+----------+----------+------+--------+---------+-----------+--------+------+----------+----+\n",
            "only showing top 5 rows\n",
            "\n"
          ]
        }
      ],
      "source": [
        "# 1. Read in the AWS S3 bucket into a DataFrame.\n",
        "from pyspark import SparkFiles\n",
        "url = \"https://2u-data-curriculum-team.s3.amazonaws.com/dataviz-classroom/v1.2/22-big-data/home_sales_revised.csv\"\n",
        "\n",
        "spark.sparkContext.addFile(url)\n",
        "\n",
        "homeDF = spark.read.csv(\n",
        "    SparkFiles.get(\"home_sales_revised.csv\"), sep=',', header=True\n",
        ")\n",
        "homeDF.show(5)"
      ]
    },
    {
      "cell_type": "code",
      "execution_count": 6,
      "metadata": {
        "id": "RoljcJ7WPpnm"
      },
      "outputs": [],
      "source": [
        "# 2. Create a temporary view of the DataFrame.\n",
        "\n",
        "homeDF.createOrReplaceTempView(\"home_sales\")"
      ]
    },
    {
      "cell_type": "code",
      "execution_count": 7,
      "metadata": {
        "id": "L6fkwOeOmqvq",
        "colab": {
          "base_uri": "https://localhost:8080/"
        },
        "outputId": "0b4e69cb-1b70-4cd8-f00a-94999749bdf7"
      },
      "outputs": [
        {
          "output_type": "stream",
          "name": "stdout",
          "text": [
            "+----+-------------+\n",
            "|Year|Average_Price|\n",
            "+----+-------------+\n",
            "|2022|    296363.88|\n",
            "|2019|     300263.7|\n",
            "|2020|    298353.78|\n",
            "|2021|    301819.44|\n",
            "+----+-------------+\n",
            "\n"
          ]
        }
      ],
      "source": [
        "# 3. What is the average price for a four bedroom house sold in each year rounded to two decimal places?\n",
        "spark.sql(\n",
        "    \"\"\"\n",
        "    SELECT\n",
        "    year(date) as Year,\n",
        "    round(AVG(price),2) as Average_Price\n",
        "    FROM home_sales\n",
        "    WHERE bedrooms=4\n",
        "    GROUP BY year\n",
        "    \"\"\"\n",
        ").show()"
      ]
    },
    {
      "cell_type": "code",
      "execution_count": 8,
      "metadata": {
        "id": "l8p_tUS8h8it",
        "colab": {
          "base_uri": "https://localhost:8080/"
        },
        "outputId": "43cd22d9-c04c-4e5b-a7d4-717c179b873d"
      },
      "outputs": [
        {
          "output_type": "stream",
          "name": "stdout",
          "text": [
            "+----+-------------+\n",
            "|Year|Average_Price|\n",
            "+----+-------------+\n",
            "|2016|    290555.07|\n",
            "|2012|    293683.19|\n",
            "|2017|    292676.79|\n",
            "|2014|    290852.27|\n",
            "|2013|    295962.27|\n",
            "|2011|    291117.47|\n",
            "|2015|     288770.3|\n",
            "|2010|    292859.62|\n",
            "+----+-------------+\n",
            "\n"
          ]
        }
      ],
      "source": [
        "# 4. What is the average price of a home for each year the home was built that have 3 bedrooms and 3 bathrooms rounded to two decimal places?\n",
        "\n",
        "spark.sql(\n",
        "    \"\"\"\n",
        "    SELECT\n",
        "    date_built as Year,\n",
        "    round(AVG(price),2) as Average_Price\n",
        "    FROM home_sales\n",
        "    WHERE bedrooms=3 AND bathrooms=3\n",
        "    GROUP BY Year\n",
        "    \"\"\"\n",
        ").show()"
      ]
    },
    {
      "cell_type": "code",
      "execution_count": 9,
      "metadata": {
        "id": "Y-Eytz64liDU",
        "colab": {
          "base_uri": "https://localhost:8080/"
        },
        "outputId": "712b7f3e-591d-44a3-c87f-59169aa09a91"
      },
      "outputs": [
        {
          "output_type": "stream",
          "name": "stdout",
          "text": [
            "+----+-------------+\n",
            "|Year|Average_Price|\n",
            "+----+-------------+\n",
            "|2016|     293965.1|\n",
            "|2012|    307539.97|\n",
            "|2017|    280317.58|\n",
            "|2014|    298264.72|\n",
            "|2013|    303676.79|\n",
            "|2011|    276553.81|\n",
            "|2015|    297609.97|\n",
            "|2010|    285010.22|\n",
            "+----+-------------+\n",
            "\n"
          ]
        }
      ],
      "source": [
        "# 5. What is the average price of a home for each year built that have 3 bedrooms, 3 bathrooms, with two floors,\n",
        "# and are greater than or equal to 2,000 square feet rounded to two decimal places?\n",
        "\n",
        "spark.sql(\n",
        "    \"\"\"\n",
        "    SELECT\n",
        "    date_built as Year,\n",
        "    round(AVG(price),2) as Average_Price\n",
        "    FROM home_sales\n",
        "    WHERE bedrooms=3 AND bathrooms=3 AND floors=2 AND sqft_living>=2000\n",
        "    GROUP BY Year\n",
        "    \"\"\"\n",
        ").show()"
      ]
    },
    {
      "cell_type": "code",
      "execution_count": 11,
      "metadata": {
        "colab": {
          "base_uri": "https://localhost:8080/"
        },
        "id": "GUrfgOX1pCRd",
        "outputId": "5b791089-0157-4545-e0a6-f03b88dfb7e0"
      },
      "outputs": [
        {
          "output_type": "stream",
          "name": "stdout",
          "text": [
            "+-----------+-------------+\n",
            "|View_Rating|Average_price|\n",
            "+-----------+-------------+\n",
            "|          7|    403005.77|\n",
            "|         51|    788128.21|\n",
            "|         15|     404673.3|\n",
            "|         54|    798684.82|\n",
            "|         11|    399548.12|\n",
            "|         29|    397771.65|\n",
            "|         69|    750537.94|\n",
            "|         42|     396964.5|\n",
            "|         87|    1072285.2|\n",
            "|         73|    752861.18|\n",
            "|         64|    767036.67|\n",
            "|          3|     398867.6|\n",
            "|         30|     397862.0|\n",
            "|         34|    401419.75|\n",
            "|         59|     791453.0|\n",
            "|          8|    398592.71|\n",
            "|         28|    402124.62|\n",
            "|         22|    402022.68|\n",
            "|         85|   1056336.74|\n",
            "|         16|    399586.53|\n",
            "+-----------+-------------+\n",
            "only showing top 20 rows\n",
            "\n",
            "--- 0.8110671043395996 seconds ---\n"
          ]
        }
      ],
      "source": [
        "# 6. What is the \"view\" rating for the average price of a home, rounded to two decimal places, where the homes are greater than\n",
        "# or equal to $350,000? Although this is a small dataset, determine the run time for this query.\n",
        "\n",
        "# calculate the start time using .time()\n",
        "start_time = time.time()\n",
        "\n",
        "spark.sql(\n",
        "    \"\"\"\n",
        "    SELECT\n",
        "    view as View_Rating, round(AVG(price),2) as Average_price\n",
        "    FROM home_sales\n",
        "    WHERE price >=350000\n",
        "    GROUP BY View\n",
        "    \"\"\"\n",
        ").show()\n",
        "\n",
        "# display the elapsed time\n",
        "print(\"--- %s seconds ---\" % (time.time() - start_time))"
      ]
    },
    {
      "cell_type": "code",
      "execution_count": 12,
      "metadata": {
        "id": "KAhk3ZD2tFy8",
        "colab": {
          "base_uri": "https://localhost:8080/"
        },
        "outputId": "e3651295-63bf-468b-eb80-c73dfdf416bc"
      },
      "outputs": [
        {
          "output_type": "execute_result",
          "data": {
            "text/plain": [
              "DataFrame[]"
            ]
          },
          "metadata": {},
          "execution_count": 12
        }
      ],
      "source": [
        "# 7. Cache the the temporary table home_sales.\n",
        "# use .spark.sql() to cache our table\n",
        "spark.sql('cache table home_sales')"
      ]
    },
    {
      "cell_type": "code",
      "execution_count": 13,
      "metadata": {
        "id": "4opVhbvxtL-i",
        "colab": {
          "base_uri": "https://localhost:8080/"
        },
        "outputId": "74468ea7-8db7-4146-dac4-140270d671b7"
      },
      "outputs": [
        {
          "output_type": "execute_result",
          "data": {
            "text/plain": [
              "True"
            ]
          },
          "metadata": {},
          "execution_count": 13
        }
      ],
      "source": [
        "# 8. Check if the table is cached.\n",
        "spark.catalog.isCached('home_sales')"
      ]
    },
    {
      "cell_type": "code",
      "execution_count": 14,
      "metadata": {
        "colab": {
          "base_uri": "https://localhost:8080/"
        },
        "id": "5GnL46lwTSEk",
        "outputId": "a2060ff7-7934-46f0-af2e-969e11c55290"
      },
      "outputs": [
        {
          "output_type": "stream",
          "name": "stdout",
          "text": [
            "+-----------+-------------+\n",
            "|View_Rating|Average_price|\n",
            "+-----------+-------------+\n",
            "|          7|    403005.77|\n",
            "|         51|    788128.21|\n",
            "|         15|     404673.3|\n",
            "|         54|    798684.82|\n",
            "|         11|    399548.12|\n",
            "|         29|    397771.65|\n",
            "|         69|    750537.94|\n",
            "|         42|     396964.5|\n",
            "|         87|    1072285.2|\n",
            "|         73|    752861.18|\n",
            "|         64|    767036.67|\n",
            "|          3|     398867.6|\n",
            "|         30|     397862.0|\n",
            "|         34|    401419.75|\n",
            "|         59|     791453.0|\n",
            "|          8|    398592.71|\n",
            "|         28|    402124.62|\n",
            "|         22|    402022.68|\n",
            "|         85|   1056336.74|\n",
            "|         16|    399586.53|\n",
            "+-----------+-------------+\n",
            "only showing top 20 rows\n",
            "\n",
            "--- 0.6370744705200195 seconds ---\n"
          ]
        }
      ],
      "source": [
        "# 9. Using the cached data, run the query that filters out the view ratings with average price\n",
        "#  greater than or equal to $350,000. Determine the runtime and compare it to uncached runtime.\n",
        "\n",
        "# calculate the start time using .time()\n",
        "start_time = time.time()\n",
        "\n",
        "spark.sql(\n",
        "    \"\"\"\n",
        "    SELECT\n",
        "    view as View_Rating, round(AVG(price),2) as Average_price\n",
        "    FROM home_sales\n",
        "    WHERE price >=350000\n",
        "    GROUP BY View\n",
        "    \"\"\"\n",
        ").show()\n",
        "\n",
        "# display the elapsed time\n",
        "print(\"--- %s seconds ---\" % (time.time() - start_time))"
      ]
    },
    {
      "cell_type": "code",
      "execution_count": 15,
      "metadata": {
        "id": "Qm12WN9isHBR"
      },
      "outputs": [],
      "source": [
        "# 10. Partition by the \"date_built\" field on the formatted parquet home sales data\n",
        "# use .partitionBy()\n",
        "homeDF.write.partitionBy(\"date_built\").parquet('parquetHomeSales', mode='overwrite')"
      ]
    },
    {
      "cell_type": "code",
      "execution_count": 16,
      "metadata": {
        "id": "AZ7BgY61sRqY"
      },
      "outputs": [],
      "source": [
        "# 11. Read the parquet formatted data.\n",
        "homeParquetDF = spark.read.parquet('parquetHomeSales')"
      ]
    },
    {
      "cell_type": "code",
      "execution_count": 17,
      "metadata": {
        "id": "J6MJkHfvVcvh"
      },
      "outputs": [],
      "source": [
        "# 12. Create a temporary table for the parquet data.\n",
        "homeParquetDF.createOrReplaceTempView(\"PartitionParquetData\")"
      ]
    },
    {
      "cell_type": "code",
      "execution_count": 19,
      "metadata": {
        "colab": {
          "base_uri": "https://localhost:8080/"
        },
        "id": "G_Vhb52rU1Sn",
        "outputId": "f1b05ed7-4b0c-4934-caa2-5d0857b2dc16"
      },
      "outputs": [
        {
          "output_type": "stream",
          "name": "stdout",
          "text": [
            "+-----------+-------------+\n",
            "|View_Rating|Average_price|\n",
            "+-----------+-------------+\n",
            "|          7|    403005.77|\n",
            "|         51|    788128.21|\n",
            "|         15|     404673.3|\n",
            "|         54|    798684.82|\n",
            "|         11|    399548.12|\n",
            "|         29|    397771.65|\n",
            "|         69|    750537.94|\n",
            "|         42|     396964.5|\n",
            "|         87|    1072285.2|\n",
            "|         73|    752861.18|\n",
            "|         64|    767036.67|\n",
            "|          3|     398867.6|\n",
            "|         30|     397862.0|\n",
            "|         34|    401419.75|\n",
            "|         59|     791453.0|\n",
            "|          8|    398592.71|\n",
            "|         28|    402124.62|\n",
            "|         22|    402022.68|\n",
            "|         85|   1056336.74|\n",
            "|         16|    399586.53|\n",
            "+-----------+-------------+\n",
            "only showing top 20 rows\n",
            "\n",
            "--- 0.4646332263946533 seconds ---\n"
          ]
        }
      ],
      "source": [
        "# 13. Run the query that filters out the view ratings with average price of greater than or equal to $350,000\n",
        "# with the parquet DataFrame. Round your average to two decimal places.\n",
        "# Determine the runtime and compare it to the cached version.\n",
        "\n",
        "# calculate the start time using .time()\n",
        "start_time = time.time()\n",
        "\n",
        "spark.sql(\n",
        "    \"\"\"\n",
        "    SELECT\n",
        "    view as View_Rating, round(AVG(price),2) as Average_price\n",
        "    FROM home_sales\n",
        "    WHERE price >=350000\n",
        "    GROUP BY View\n",
        "    \"\"\"\n",
        ").show()\n",
        "\n",
        "# display the elapsed time\n",
        "print(\"--- %s seconds ---\" % (time.time() - start_time))"
      ]
    },
    {
      "cell_type": "code",
      "execution_count": 20,
      "metadata": {
        "id": "hjjYzQGjtbq8",
        "colab": {
          "base_uri": "https://localhost:8080/"
        },
        "outputId": "5b492e50-b491-4f21-bb9a-a1008a9b796f"
      },
      "outputs": [
        {
          "output_type": "execute_result",
          "data": {
            "text/plain": [
              "DataFrame[]"
            ]
          },
          "metadata": {},
          "execution_count": 20
        }
      ],
      "source": [
        "# 14. Uncache the home_sales temporary table.\n",
        "spark.sql(\"uncache table PartitionParquetData\")"
      ]
    },
    {
      "cell_type": "code",
      "execution_count": 21,
      "metadata": {
        "id": "Sy9NBvO7tlmm",
        "colab": {
          "base_uri": "https://localhost:8080/"
        },
        "outputId": "ff1b2e56-a4e4-414e-be2a-6b482915878b"
      },
      "outputs": [
        {
          "output_type": "execute_result",
          "data": {
            "text/plain": [
              "False"
            ]
          },
          "metadata": {},
          "execution_count": 21
        }
      ],
      "source": [
        "# 15. Check if the home_sales is no longer cached\n",
        "spark.catalog.isCached('PartitionParquetData')\n"
      ]
    },
    {
      "cell_type": "code",
      "execution_count": null,
      "metadata": {
        "id": "Si-BNruRUGK3"
      },
      "outputs": [],
      "source": []
    }
  ],
  "metadata": {
    "colab": {
      "provenance": []
    },
    "gpuClass": "standard",
    "kernelspec": {
      "display_name": "Python 3 (ipykernel)",
      "language": "python",
      "name": "python3"
    },
    "language_info": {
      "codemirror_mode": {
        "name": "ipython",
        "version": 3
      },
      "file_extension": ".py",
      "mimetype": "text/x-python",
      "name": "python",
      "nbconvert_exporter": "python",
      "pygments_lexer": "ipython3",
      "version": "3.10.4"
    },
    "nteract": {
      "version": "0.28.0"
    }
  },
  "nbformat": 4,
  "nbformat_minor": 0
}